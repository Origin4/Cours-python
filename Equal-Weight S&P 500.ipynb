{
 "cells": [
  {
   "cell_type": "markdown",
   "id": "alpine-relief",
   "metadata": {},
   "source": [
    "Fonds indiciel S&P 500 à pondération égale\n",
    "Introduction et importations de bibliothèques\n",
    "Le S&P 500 est l'indice boursier le plus populaire au monde. Le plus grand fonds de référence de cet indice est le SPDR® S&P 500® ETF Trust. Elle a plus de 250 milliards de dollars d'actifs sous gestion.\n",
    "\n",
    "Le but de cette section du cours est de créer un script Python qui acceptera la valeur de votre portefeuille et vous indiquera combien d'actions de chaque constituant du S&P 500 vous devriez acheter pour obtenir une version à pondération égale du fonds indiciel.\n",
    "\n",
    "Importations de la bibliothèque\n",
    "La première chose que nous devons faire est d'importer les bibliothèques de logiciels open source que nous utiliserons dans ce didacticiel."
   ]
  },
  {
   "cell_type": "code",
   "execution_count": null,
   "id": "radio-beaver",
   "metadata": {},
   "outputs": [],
   "source": []
  },
  {
   "cell_type": "markdown",
   "id": "strategic-healing",
   "metadata": {},
   "source": [
    "Importation de notre liste de stocks\n",
    "La prochaine chose que nous devons faire est d'importer les composants du S&P 500.\n",
    "\n",
    "Ces constituants changent avec le temps, de sorte que dans un monde idéal, vous vous connectez directement au fournisseur d'index (Standard & Poor's) et extrayez régulièrement leurs constituants en temps réel.\n",
    "\n",
    "Le paiement de l'accès à l'API du fournisseur d'index n'entre pas dans le cadre de ce cours.\n",
    "\n",
    "Une version statique des composants du S&P 500 est disponible ici. Cliquez sur ce lien pour les télécharger maintenant. Déplacez ce fichier dans le dossier starter-files afin qu'il soit accessible par d'autres fichiers de ce répertoire.\n",
    "\n",
    "Il est maintenant temps d'importer ces stocks dans notre fichier Jupyter Notebook."
   ]
  },
  {
   "cell_type": "code",
   "execution_count": null,
   "id": "alleged-seventh",
   "metadata": {},
   "outputs": [],
   "source": []
  },
  {
   "cell_type": "markdown",
   "id": "outer-payroll",
   "metadata": {},
   "source": [
    "Acquérir un jeton API\n",
    "Il est maintenant temps d'importer notre jeton d'API IEX Cloud. C'est le fournisseur de données que nous utiliserons tout au long de ce cours.\n",
    "\n",
    "Les jetons d'API (et autres informations sensibles) doivent être stockés dans un fichier secrets.py qui n'est pas poussé vers votre référentiel Git local. Nous utiliserons un jeton d'API sandbox dans ce cours, ce qui signifie que les données que nous utiliserons sont générées de manière aléatoire et (plus important encore) n'ont aucun coût associé.\n",
    "\n",
    "Cliquez ici pour télécharger votre fichier secrets.py. Déplacez le fichier dans le même répertoire que ce bloc-notes Jupyter avant de continuer."
   ]
  },
  {
   "cell_type": "code",
   "execution_count": null,
   "id": "convinced-trail",
   "metadata": {},
   "outputs": [],
   "source": []
  },
  {
   "cell_type": "markdown",
   "id": "saved-valve",
   "metadata": {},
   "source": [
    "Faire notre premier appel API\n",
    "Il est maintenant temps de structurer nos appels d'API vers le cloud IEX.\n",
    "\n",
    "Nous avons besoin des informations suivantes de l'API:\n",
    "\n",
    "Capitalisation boursière pour chaque action\n",
    "Prix de chaque stock"
   ]
  },
  {
   "cell_type": "code",
   "execution_count": null,
   "id": "shared-europe",
   "metadata": {},
   "outputs": [],
   "source": []
  },
  {
   "cell_type": "markdown",
   "id": "extended-aircraft",
   "metadata": {},
   "source": [
    "Analyse de notre appel API\n",
    "L'appel d'API que nous avons exécuté dans le dernier bloc de code contient toutes les informations nécessaires pour construire notre stratégie S&P 500 de poids égal.\n",
    "\n",
    "Cela dit, les données ne sont pas encore dans un format approprié. Nous devons d'abord l'analyser."
   ]
  },
  {
   "cell_type": "code",
   "execution_count": null,
   "id": "expressed-colonial",
   "metadata": {},
   "outputs": [],
   "source": []
  },
  {
   "cell_type": "markdown",
   "id": "automotive-toner",
   "metadata": {},
   "source": [
    "Ajouter nos données boursières à un Pandas DataFrame¶\n",
    "La prochaine chose que nous devons faire est d'ajouter le prix de notre action et la capitalisation boursière à un DataFrame pandas. Pensez à un DataFrame comme la version Python d'une feuille de calcul. Il stocke des données tabulaires."
   ]
  },
  {
   "cell_type": "code",
   "execution_count": null,
   "id": "remarkable-respect",
   "metadata": {},
   "outputs": [],
   "source": []
  },
  {
   "cell_type": "markdown",
   "id": "several-jacob",
   "metadata": {},
   "source": [
    "Boucle à travers les tickers dans notre liste d'actions¶\n",
    "En utilisant la même logique que celle décrite ci-dessus, nous pouvons extraire des données pour tous les stocks du S&P 500 et stocker leurs données dans le DataFrame à l'aide d'une boucle for."
   ]
  },
  {
   "cell_type": "code",
   "execution_count": null,
   "id": "presidential-greeting",
   "metadata": {},
   "outputs": [],
   "source": []
  },
  {
   "cell_type": "markdown",
   "id": "victorian-rubber",
   "metadata": {},
   "source": [
    "Utilisation des appels d'API par lots pour améliorer les performances\n",
    "Les appels d'API par lots sont l'un des moyens les plus simples d'améliorer les performances de votre code.\n",
    "\n",
    "En effet, les requêtes HTTP sont généralement l'un des composants les plus lents d'un script.\n",
    "\n",
    "En outre, les fournisseurs d'API vous proposeront souvent des tarifs réduits pour l'utilisation d'appels d'API par lots, car ils sont plus faciles à répondre pour le fournisseur d'API.\n",
    "\n",
    "IEX Cloud limite ses appels d'API par lots à 100 tickers par demande. Néanmoins, cela réduit le nombre d'appels API que nous effectuerons dans cette section de 500 à 5 - une énorme amélioration! Dans cette section, nous allons diviser notre liste d'actions en groupes de 100, puis effectuer un appel API par lots pour chaque groupe."
   ]
  },
  {
   "cell_type": "code",
   "execution_count": null,
   "id": "owned-carolina",
   "metadata": {},
   "outputs": [],
   "source": []
  },
  {
   "cell_type": "markdown",
   "id": "delayed-roommate",
   "metadata": {},
   "source": [
    "Calcul du nombre d'actions à acheter\n",
    "Comme vous pouvez le voir dans le DataFrame ci-dessus, nous n'avons toujours pas calculé le nombre d'actions de chaque action à acheter.\n",
    "\n",
    "Nous ferons cela ensuite."
   ]
  },
  {
   "cell_type": "code",
   "execution_count": null,
   "id": "thirty-sarah",
   "metadata": {},
   "outputs": [],
   "source": []
  },
  {
   "cell_type": "markdown",
   "id": "urban-mistress",
   "metadata": {},
   "source": [
    "Formatting Our Excel Output\n",
    "We will be using the XlsxWriter library for Python to create nicely-formatted Excel files.\n",
    "\n",
    "XlsxWriter is an excellent package and offers tons of customization. However, the tradeoff for this is that the library can seem very complicated to new users. Accordingly, this section will be fairly long because I want to do a good job of explaining how XlsxWriter works.\n",
    "\n",
    "Initializing our XlsxWriter Object"
   ]
  },
  {
   "cell_type": "code",
   "execution_count": null,
   "id": "progressive-manhattan",
   "metadata": {},
   "outputs": [],
   "source": []
  },
  {
   "cell_type": "markdown",
   "id": "sticky-brand",
   "metadata": {},
   "source": [
    "Création des formats dont nous aurons besoin pour notre fichier .xlsx\n",
    "Les formats incluent les couleurs, les polices et aussi des symboles comme% et $. Nous aurons besoin de quatre formats principaux pour notre document Excel:\n",
    "\n",
    "Format de chaîne pour les tickers\n",
    "Format \\ $ XX.XX pour les cours des actions\n",
    "Format \\ $ XX, XXX pour la capitalisation boursière\n",
    "Format entier pour le nombre d'actions à acheter"
   ]
  },
  {
   "cell_type": "code",
   "execution_count": null,
   "id": "inclusive-customs",
   "metadata": {},
   "outputs": [],
   "source": []
  },
  {
   "cell_type": "markdown",
   "id": "verbal-thailand",
   "metadata": {},
   "source": [
    "Application des formats aux colonnes de notre fichier .xlsx\n",
    "Nous pouvons utiliser la méthode set_column appliquée à l'objet writer.sheets ['Recommended Trades'] pour appliquer des formats à des colonnes spécifiques de nos feuilles de calcul.\n",
    "\n",
    "Voici un exemple:\n",
    "\n",
    "writer.sheets ['Traductions recommandées']. set_column ('B: B', # Ceci indique à la méthode d'appliquer le format à la colonne B\n",
    "                      18, # Ceci indique à la méthode d'appliquer une largeur de colonne de 18 pixels\n",
    "                      string_template # Ceci applique le format 'string_template' à la colonne\n",
    "                     )"
   ]
  },
  {
   "cell_type": "code",
   "execution_count": null,
   "id": "shared-contributor",
   "metadata": {},
   "outputs": [],
   "source": []
  },
  {
   "cell_type": "markdown",
   "id": "third-penny",
   "metadata": {},
   "source": [
    "\n",
    "Saving Our Excel Output\n",
    "Saving our Excel file is very easy:"
   ]
  },
  {
   "cell_type": "code",
   "execution_count": null,
   "id": "favorite-pizza",
   "metadata": {},
   "outputs": [],
   "source": []
  }
 ],
 "metadata": {
  "kernelspec": {
   "display_name": "Python 3",
   "language": "python",
   "name": "python3"
  },
  "language_info": {
   "codemirror_mode": {
    "name": "ipython",
    "version": 3
   },
   "file_extension": ".py",
   "mimetype": "text/x-python",
   "name": "python",
   "nbconvert_exporter": "python",
   "pygments_lexer": "ipython3",
   "version": "3.7.7"
  }
 },
 "nbformat": 4,
 "nbformat_minor": 5
}
