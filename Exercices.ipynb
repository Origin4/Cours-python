{
 "cells": [
  {
   "cell_type": "markdown",
   "id": "japanese-scotland",
   "metadata": {},
   "source": [
    "# IT ACADEMY \n",
    "# Apprendre à programmer en python : exercices \n",
    "\n",
    "\n"
   ]
  },
  {
   "cell_type": "markdown",
   "id": "manual-palmer",
   "metadata": {},
   "source": [
    "# ----------------------------------------\n",
    "\n",
    "\n",
    "### Question:\n",
    "Écrivez un programme qui trouvera tous les nombres qui sont divisibles par 7 mais qui ne sont pas un multiple de 5,\n",
    "entre 2000 et 3200 (tous deux inclus).\n",
    "Les nombres obtenus doivent être imprimés dans une séquence séparée par des virgules sur une seule ligne.\n",
    "\n",
    "### Astuces:\n",
    "Envisagez d'utiliser la méthode range (#begin, #end)"
   ]
  },
  {
   "cell_type": "code",
   "execution_count": null,
   "id": "standard-channel",
   "metadata": {},
   "outputs": [],
   "source": []
  },
  {
   "cell_type": "markdown",
   "id": "spanish-encyclopedia",
   "metadata": {},
   "source": [
    "# ----------------------------------------\n",
    "\n",
    "\n",
    "### Question:\n",
    "Ecrivez un programme qui peut calculer la factorielle d'un nombre donné.\n",
    "Les résultats doivent être imprimés dans une séquence séparée par des virgules sur une seule ligne.\n",
    "Supposons que l'entrée suivante soit fournie au programme:\n",
    "8\n",
    "Ensuite, la sortie doit être:\n",
    "40320\n",
    "\n",
    "### Astuces:\n",
    "Dans le cas où des données d'entrée sont fournies à la question, il doit être considéré comme une entrée de console."
   ]
  },
  {
   "cell_type": "code",
   "execution_count": null,
   "id": "painted-timeline",
   "metadata": {},
   "outputs": [],
   "source": []
  },
  {
   "cell_type": "markdown",
   "id": "middle-insulin",
   "metadata": {},
   "source": [
    "# ----------------------------------------\n",
    "\n",
    "### Question:\n",
    "Avec un nombre entier donné n, écrivez un programme pour générer un dictionnaire contenant (i, i * i) tel qu'un nombre entier compris entre 1 et n (tous deux inclus). puis le programme doit imprimer le dictionnaire.\n",
    "Supposons que l'entrée suivante soit fournie au programme:\n",
    "8\n",
    "Ensuite, la sortie doit être:\n",
    "{1: 1, 2: 4, 3: 9, 4: 16, 5: 25, 6: 36, 7: 49, 8: 64}\n",
    "\n",
    "### Astuces:\n",
    "Dans le cas où des données d'entrée sont fournies à la question, il doit être considéré comme une entrée de console.\n",
    "Envisagez d'utiliser dict ()\n",
    "\n"
   ]
  },
  {
   "cell_type": "code",
   "execution_count": null,
   "id": "centered-collar",
   "metadata": {},
   "outputs": [],
   "source": []
  },
  {
   "cell_type": "markdown",
   "id": "significant-mixture",
   "metadata": {},
   "source": [
    "# ------------------------------------------------------------\n",
    "\n",
    "\n",
    "### Question:\n",
    "Ecrivez un programme qui accepte une séquence de nombres séparés par des virgules depuis la console et générez une liste et un tuple contenant chaque nombre.\n",
    "Supposons que l'entrée suivante soit fournie au programme:\n",
    "34,67,55,33,12,98\n",
    "Ensuite, la sortie doit être:\n",
    "[«34», «67», «55», «33», «12», «98»]\n",
    "('34', '67', '55', '33', '12', '98')\n",
    "\n",
    "### Astuces:\n",
    "Dans le cas où des données d'entrée sont fournies à la question, il doit être considéré comme une entrée de console.\n",
    "La méthode tuple () peut convertir une liste en tuple"
   ]
  },
  {
   "cell_type": "code",
   "execution_count": null,
   "id": "canadian-neighborhood",
   "metadata": {},
   "outputs": [],
   "source": []
  },
  {
   "cell_type": "markdown",
   "id": "uniform-cargo",
   "metadata": {},
   "source": [
    "\n",
    "\n",
    "### Question:\n",
    "Définissez une classe qui a au moins deux méthodes:\n",
    "getString: pour obtenir une chaîne à partir de l'entrée de la console\n",
    "printString: pour imprimer la chaîne en majuscules.\n",
    "Veuillez également inclure une fonction de test simple pour tester les méthodes de classe.\n",
    "\n",
    "### Astuces:\n",
    "Utilisez la méthode __init__ pour construire certains paramètres"
   ]
  },
  {
   "cell_type": "code",
   "execution_count": null,
   "id": "false-aruba",
   "metadata": {},
   "outputs": [],
   "source": []
  },
  {
   "cell_type": "markdown",
   "id": "trained-awareness",
   "metadata": {},
   "source": [
    "# ---------------------------------------- #\n",
    "\n",
    "\n",
    "### Question:\n",
    "Écrivez un programme qui calcule et imprime la valeur selon la formule donnée:\n",
    "Q = racine carrée de [(2 * C * D) / H]\n",
    "Voici les valeurs fixes de C et H:\n",
    "C est 50. H est 30.\n",
    "D est la variable dont les valeurs doivent être entrées dans votre programme dans une séquence séparée par des virgules.\n",
    "Exemple\n",
    "Supposons que la séquence d'entrée séparée par des virgules suivante soit donnée au programme:\n",
    "100,150,180\n",
    "La sortie du programme doit être:\n",
    "18,22,24\n",
    "\n",
    "### Astuces:\n",
    "Si la sortie reçue est sous forme décimale, elle doit être arrondie à sa valeur la plus proche (par exemple, si la sortie reçue est 26,0, elle doit être imprimée comme 26)\n",
    "Dans le cas où des données d'entrée sont fournies à la question, il faut supposer qu'il s'agit d'une entrée de console."
   ]
  },
  {
   "cell_type": "code",
   "execution_count": null,
   "id": "quarterly-ribbon",
   "metadata": {},
   "outputs": [],
   "source": []
  },
  {
   "cell_type": "markdown",
   "id": "outstanding-motivation",
   "metadata": {},
   "source": [
    "\n",
    "### Question:\n",
    "Ecrivez un programme qui prend 2 chiffres, X, Y comme entrée et génère un tableau à 2 dimensions. La valeur de l'élément dans la i-ème ligne et la j-ème colonne du tableau doit être i * j.\n",
    "Remarque: i = 0,1 .., X-1; j = 0,1, ¡Y-1.\n",
    "Exemple\n",
    "Supposons que les entrées suivantes soient données au programme:\n",
    "3,5\n",
    "Ensuite, la sortie du programme doit être:\n",
    "[[0, 0, 0, 0, 0], [0, 1, 2, 3, 4], [0, 2, 4, 6, 8]]\n",
    "\n",
    "### Astuces:\n",
    "Remarque: Dans le cas où des données d'entrée sont fournies à la question, il doit être supposé être une entrée de console sous une forme séparée par des virgules."
   ]
  },
  {
   "cell_type": "code",
   "execution_count": null,
   "id": "conceptual-champion",
   "metadata": {},
   "outputs": [],
   "source": []
  },
  {
   "cell_type": "markdown",
   "id": "cardiac-county",
   "metadata": {},
   "source": [
    "# ---------------------------------------- #\n",
    "\n",
    "### Question:\n",
    "Écrivez un programme qui accepte une séquence de mots séparés par des virgules comme entrée et imprime les mots dans une séquence séparée par des virgules après les avoir triés par ordre alphabétique.\n",
    "Supposons que l'entrée suivante soit fournie au programme:\n",
    "sans, bonjour, sac, monde\n",
    "Ensuite, la sortie doit être:\n",
    "sac, bonjour, sans, monde\n",
    "\n",
    "### Astuces:\n",
    "Dans le cas où des données d'entrée sont fournies à la question, il doit être considéré comme une entrée de console."
   ]
  },
  {
   "cell_type": "code",
   "execution_count": null,
   "id": "behavioral-dispute",
   "metadata": {},
   "outputs": [],
   "source": []
  },
  {
   "cell_type": "markdown",
   "id": "satisfied-norway",
   "metadata": {},
   "source": [
    "# ---------------------------------------- #\n",
    "\n",
    "\n",
    " ### Question £ º\n",
    "Écrivez un programme qui accepte une séquence de lignes comme entrée et imprime les lignes après avoir mis tous les caractères de la phrase en majuscules.\n",
    "Supposons que l'entrée suivante soit fournie au programme:\n",
    "Bonjour le monde\n",
    "C'est en forgeant qu'on devient forgeron\n",
    "Ensuite, la sortie doit être:\n",
    "BONJOUR LE MONDE\n",
    "C'EST EN FORGEANT QU'ON DEVIENT FORGERON\n",
    "\n",
    " ### Astuces:\n",
    "Dans le cas où des données d'entrée sont fournies à la question, il doit être considéré comme une entrée de console."
   ]
  },
  {
   "cell_type": "code",
   "execution_count": null,
   "id": "standing-notebook",
   "metadata": {},
   "outputs": [],
   "source": []
  },
  {
   "cell_type": "markdown",
   "id": "varying-bones",
   "metadata": {},
   "source": [
    "\n",
    "### Question:\n",
    "Écrivez un programme qui accepte une séquence de mots séparés par des espaces en entrée et imprime les mots après avoir supprimé tous les mots en double et les avoir triés par ordre alphanumérique.\n",
    "Supposons que l'entrée suivante soit fournie au programme:\n",
    "bonjour le monde et la pratique rend parfait et bonjour le monde à nouveau\n",
    "Ensuite, la sortie doit être:\n",
    "encore une fois et bonjour fait un monde de pratique parfait\n",
    "\n",
    "### Astuces:\n",
    "Dans le cas où des données d'entrée sont fournies à la question, il doit être considéré comme une entrée de console.\n",
    "Nous utilisons set container pour supprimer automatiquement les données dupliquées, puis utilisons sorted () pour trier les données."
   ]
  },
  {
   "cell_type": "code",
   "execution_count": null,
   "id": "measured-understanding",
   "metadata": {},
   "outputs": [],
   "source": []
  },
  {
   "cell_type": "markdown",
   "id": "corporate-organic",
   "metadata": {},
   "source": [
    "\n",
    "### Question:\n",
    "Écrivez un programme qui accepte une séquence de nombres binaires à 4 chiffres séparés par des virgules comme entrée, puis vérifiez s'ils sont divisibles par 5 ou non. Les nombres divisibles par 5 doivent être imprimés dans une séquence séparée par des virgules.\n",
    "Exemple:\n",
    "0100,0011,1010,1001\n",
    "Ensuite, la sortie devrait être:\n",
    "1010\n",
    "Remarques: Supposons que les données soient entrées par la console.\n",
    "\n",
    "### Astuces:\n",
    "Dans le cas où des données d'entrée sont fournies à la question, il doit être considéré comme une entrée de console."
   ]
  },
  {
   "cell_type": "code",
   "execution_count": null,
   "id": "christian-scholarship",
   "metadata": {},
   "outputs": [],
   "source": []
  },
  {
   "cell_type": "markdown",
   "id": "german-hundred",
   "metadata": {},
   "source": [
    "### Question:\n",
    "Écrivez un programme, qui trouvera tous ces nombres entre 1000 et 3000 (tous deux inclus) de telle sorte que chaque chiffre du nombre soit un nombre pair.\n",
    "Les nombres obtenus doivent être imprimés dans une séquence séparée par des virgules sur une seule ligne.\n",
    "\n",
    "### Astuces:\n",
    "Dans le cas où des données d'entrée sont fournies à la question, il doit être considéré comme une entrée de console."
   ]
  },
  {
   "cell_type": "code",
   "execution_count": null,
   "id": "verbal-basics",
   "metadata": {},
   "outputs": [],
   "source": []
  },
  {
   "cell_type": "markdown",
   "id": "assigned-carnival",
   "metadata": {},
   "source": [
    "\n",
    "\n",
    "### Question:\n",
    "Écrivez un programme qui accepte une phrase et calculez le nombre de lettres et de chiffres.\n",
    "Supposons que l'entrée suivante soit fournie au programme:\n",
    "Bonjour le monde! 123\n",
    "Ensuite, la sortie doit être:\n",
    "LETTRES 10\n",
    "CHIFFRES 3\n",
    "\n",
    "### Astuces:\n",
    "Dans le cas où des données d'entrée sont fournies à la question, il doit être considéré comme une entrée de console."
   ]
  },
  {
   "cell_type": "code",
   "execution_count": null,
   "id": "preliminary-conflict",
   "metadata": {},
   "outputs": [],
   "source": []
  },
  {
   "cell_type": "markdown",
   "id": "sorted-segment",
   "metadata": {},
   "source": [
    "\n",
    "### Question:\n",
    "Écrivez un programme qui accepte une phrase et calculez le nombre de lettres majuscules et minuscules.\n",
    "Supposons que l'entrée suivante soit fournie au programme:\n",
    "Bonjour le monde!\n",
    "Ensuite, la sortie doit être:\n",
    "CAS SUPÉRIEUR 1\n",
    "CAS INFÉRIEUR 9\n",
    "\n",
    "### Astuces:\n",
    "Dans le cas où des données d'entrée sont fournies à la question, il doit être considéré comme une entrée de console."
   ]
  },
  {
   "cell_type": "code",
   "execution_count": null,
   "id": "stretch-failure",
   "metadata": {},
   "outputs": [],
   "source": []
  },
  {
   "cell_type": "markdown",
   "id": "conventional-stuart",
   "metadata": {},
   "source": [
    "### ---------------------------------------- #\n",
    "\n",
    "### Question:\n",
    "Écrivez un programme qui calcule la valeur de a + aa + aaa + aaaa avec un chiffre donné comme valeur de a.\n",
    "Supposons que l'entrée suivante soit fournie au programme:\n",
    "9\n",
    "Ensuite, la sortie doit être:\n",
    "11106\n",
    " ### Astuces:\n",
    "Dans le cas où des données d'entrée sont fournies à la question, il doit être considéré comme une entrée de console."
   ]
  },
  {
   "cell_type": "code",
   "execution_count": null,
   "id": "charming-picture",
   "metadata": {},
   "outputs": [],
   "source": []
  },
  {
   "cell_type": "markdown",
   "id": "compliant-bunny",
   "metadata": {},
   "source": [
    "\n",
    "### Question:\n",
    "Utilisez une compréhension de liste pour mettre au carré chaque nombre impair dans une liste. La liste est entrée par une séquence de nombres séparés par des virgules.\n",
    "Supposons que l'entrée suivante soit fournie au programme:\n",
    "1,2,3,4,5,6,7,8,9\n",
    "Ensuite, la sortie doit être:\n",
    "1,3,5,7,9\n",
    "\n",
    "### Astuces:\n",
    "Dans le cas où des données d'entrée sont fournies à la question, il doit être considéré comme une entrée de console."
   ]
  },
  {
   "cell_type": "code",
   "execution_count": null,
   "id": "modular-waters",
   "metadata": {},
   "outputs": [],
   "source": []
  },
  {
   "cell_type": "markdown",
   "id": "alive-easter",
   "metadata": {},
   "source": [
    "\n",
    "### Question:\n",
    "Écrivez un programme qui calcule le montant net d'un compte bancaire en fonction d'un journal de transactions à partir de l'entrée de la console. Le format du journal des transactions est présenté comme suit:\n",
    "D 100\n",
    "200 W\n",
    "\n",
    "D signifie dépôt tandis que W signifie retrait.\n",
    "Supposons que l'entrée suivante soit fournie au programme:\n",
    "D 300\n",
    "D 300\n",
    "200 W\n",
    "D 100\n",
    "Ensuite, la sortie doit être:\n",
    "500\n",
    "\n",
    "### Astuces:\n",
    "En cas de données d'entrée fournies à la question, il faut supposer qu'il s'agit d'une entrée de console"
   ]
  },
  {
   "cell_type": "code",
   "execution_count": null,
   "id": "aggressive-shoulder",
   "metadata": {},
   "outputs": [],
   "source": []
  },
  {
   "cell_type": "markdown",
   "id": "alternative-croatia",
   "metadata": {},
   "source": [
    "# ---------------------------------------- #\n",
    "\n",
    "### Question:\n",
    "Un site Web demande aux utilisateurs de saisir un nom d'utilisateur et un mot de passe pour s'inscrire. Ecrire un programme pour vérifier la validité du mot de passe saisi par les utilisateurs.\n",
    "Voici les critères de vérification du mot de passe:\n",
    "1. Au moins 1 lettre entre [a-z]\n",
    "2. Au moins 1 chiffre entre [0-9]\n",
    "1. Au moins 1 lettre entre [A-Z]\n",
    "3. Au moins 1 caractère de [$ # @]\n",
    "4. Longueur minimale du mot de passe de transaction: 6\n",
    "5. Longueur maximale du mot de passe de transaction: 12\n",
    "Votre programme doit accepter une séquence de mots de passe séparés par des virgules et les vérifiera selon les critères ci-dessus. Les mots de passe qui correspondent aux critères doivent être imprimés, chacun séparé par une virgule.\n",
    "Exemple\n",
    "Si les mots de passe suivants sont fournis en entrée du programme:\n",
    "ABd1234 @ 1, un F1 #, 2w3E *, 2We3345\n",
    "Ensuite, la sortie du programme doit être:\n",
    "ABd1234 @ 1\n",
    "\n",
    "### Astuces:\n",
    "Dans le cas où des données d'entrée sont fournies à la question, il doit être considéré comme une entrée de console."
   ]
  },
  {
   "cell_type": "code",
   "execution_count": null,
   "id": "signal-concern",
   "metadata": {},
   "outputs": [],
   "source": []
  },
  {
   "cell_type": "markdown",
   "id": "cloudy-cleaning",
   "metadata": {
    "slideshow": {
     "slide_type": "-"
    }
   },
   "source": [
    "# ---------------------------------------- #\n",
    "\n",
    "\n",
    "### Question:\n",
    "Vous devez écrire un programme pour trier les tuples (nom, âge, hauteur) par ordre croissant où le nom est une chaîne, l'âge et la hauteur sont des nombres. Les tuples sont saisis par la console. Le critère de tri est:\n",
    "1: Trier en fonction du nom;\n",
    "2: Puis triez en fonction de l'âge;\n",
    "3: Puis triez par score.\n",
    "La priorité est ce nom> âge> score.\n",
    "Si les tuples suivants sont donnés en entrée du programme:\n",
    "Tom, 19,80 ans\n",
    "Jean, 20,90\n",
    "Jony, 17,91 ans\n",
    "Jony, 17,93\n",
    "Json, 21,85\n",
    "Ensuite, la sortie du programme doit être:\n",
    "[('Jean', '20', '90'), ('Jony', '17', '91'), ('Jony', '17', '93'), ('Json', '21 ',' 85 '), (' Tom ',' 19 ',' 80 ')]\n",
    "\n",
    "### Astuces:\n",
    "Dans le cas où des données d'entrée sont fournies à la question, il doit être considéré comme une entrée de console.\n",
    "Nous utilisons itemgetter pour activer plusieurs clés de tri."
   ]
  },
  {
   "cell_type": "code",
   "execution_count": null,
   "id": "impaired-sacrifice",
   "metadata": {},
   "outputs": [],
   "source": []
  },
  {
   "cell_type": "markdown",
   "id": "experienced-vertical",
   "metadata": {},
   "source": [
    "---------------------------------------- #\n",
    "\n",
    "\n",
    "### Question:\n",
    "Définissez une classe avec un générateur qui peut itérer les nombres, qui sont divisibles par 7, entre une plage donnée 0 et n.\n",
    "\n",
    "### Astuces:\n",
    "Considérez le rendement d'utilisation"
   ]
  },
  {
   "cell_type": "code",
   "execution_count": null,
   "id": "under-karaoke",
   "metadata": {},
   "outputs": [],
   "source": []
  },
  {
   "cell_type": "markdown",
   "id": "impressed-poker",
   "metadata": {},
   "source": [
    "# ---------------------------------------- #\n",
    "\n",
    "### Question £ º\n",
    "Un robot se déplace dans un plan à partir du point d'origine (0,0). Le robot peut se déplacer vers HAUT, BAS, GAUCHE et DROITE avec un pas donné. La trace du mouvement du robot est représentée comme suit:\n",
    "UP 5\n",
    "BAS 3\n",
    "GAUCHE 3\n",
    "DROITE 2\n",
    "¡\n",
    "Les nombres après la direction sont des étapes. Veuillez écrire un programme pour calculer la distance par rapport à la position actuelle après une séquence de mouvement et un point d'origine. Si la distance est un flottant, alors imprimez simplement l'entier le plus proche.\n",
    "Exemple:\n",
    "Si les tuples suivants sont donnés en entrée du programme:\n",
    "UP 5\n",
    "BAS 3\n",
    "GAUCHE 3\n",
    "DROITE 2\n",
    "Ensuite, la sortie du programme doit être:\n",
    "2\n",
    "\n",
    "### Astuces:\n",
    "Dans le cas où des données d'entrée sont fournies à la question, il doit être considéré comme une entrée de console."
   ]
  },
  {
   "cell_type": "code",
   "execution_count": null,
   "id": "universal-consent",
   "metadata": {},
   "outputs": [],
   "source": []
  },
  {
   "cell_type": "markdown",
   "id": "bright-lexington",
   "metadata": {},
   "source": [
    "\n",
    "\n",
    "### Question:\n",
    "Écrivez un programme pour calculer la fréquence des mots de l'entrée. La sortie doit sortir après le tri alphanumérique de la clé.\n",
    "Supposons que l'entrée suivante soit fournie au programme:\n",
    "Nouveau sur Python ou choisir entre Python 2 et Python 3? Lisez Python 2 ou Python 3.\n",
    "Ensuite, la sortie doit être:\n",
    "2: 2\n",
    "3.:1\n",
    "3?: 1\n",
    "Nouveau: 1\n",
    "Python: 5\n",
    "Lire: 1\n",
    "et 1\n",
    "entre: 1\n",
    "choix: 1\n",
    "ou: 2\n",
    "à: 1\n",
    "\n",
    "### Astuces\n",
    "Dans le cas où des données d'entrée sont fournies à la question, il doit être considéré comme une entrée de console."
   ]
  },
  {
   "cell_type": "code",
   "execution_count": null,
   "id": "motivated-exhaust",
   "metadata": {},
   "outputs": [],
   "source": []
  },
  {
   "cell_type": "markdown",
   "id": "micro-solid",
   "metadata": {},
   "source": [
    "\n",
    "\n",
    "### Question:\n",
    "     Écrivez une méthode qui peut calculer la valeur carrée d'un nombre\n",
    "\n",
    "### Astuces:\n",
    "     Utilisation de l'opérateur **"
   ]
  },
  {
   "cell_type": "code",
   "execution_count": null,
   "id": "waiting-richmond",
   "metadata": {},
   "outputs": [],
   "source": []
  },
  {
   "cell_type": "markdown",
   "id": "original-guard",
   "metadata": {},
   "source": [
    "\n",
    "\n",
    "### Question:\n",
    "     Python a de nombreuses fonctions intégrées, et si vous ne savez pas comment l'utiliser, vous pouvez lire le document en ligne ou trouver des livres. Mais Python a une fonction de document intégrée pour chaque fonction intégrée.\n",
    "     Veuillez écrire un programme pour imprimer certains documents de fonctions intégrées Python, tels que abs (), int (), raw_input ()\n",
    "     Et ajoutez un document pour votre propre fonction\n",
    "    \n",
    "### Astuces:\n",
    "     La méthode de document intégrée est __doc__"
   ]
  },
  {
   "cell_type": "code",
   "execution_count": null,
   "id": "saving-strengthening",
   "metadata": {},
   "outputs": [],
   "source": []
  },
  {
   "cell_type": "markdown",
   "id": "requested-inquiry",
   "metadata": {},
   "source": [
    "\n",
    "\n",
    " ### Question:\n",
    "     Définissez une classe, qui a un paramètre de classe et un même paramètre d'instance.\n",
    "\n",
    "### Astuces:\n",
    "     Définissez un paramètre d'instance, vous devez l'ajouter dans la méthode __init__\n",
    "     Vous pouvez initier un objet avec le paramètre de construction ou définir la valeur ultérieurement"
   ]
  },
  {
   "cell_type": "code",
   "execution_count": null,
   "id": "personalized-construction",
   "metadata": {},
   "outputs": [],
   "source": []
  },
  {
   "cell_type": "markdown",
   "id": "least-guard",
   "metadata": {},
   "source": [
    "# ---------------------------------------- #\n",
    "### Question:\n",
    "Définissez une fonction qui peut calculer la somme de deux nombres.\n",
    "\n",
    " ### Astuces:\n",
    "Définissez une fonction avec deux nombres comme arguments. Vous pouvez calculer la somme dans la fonction et renvoyer la valeur."
   ]
  },
  {
   "cell_type": "code",
   "execution_count": null,
   "id": "underlying-revision",
   "metadata": {},
   "outputs": [],
   "source": []
  },
  {
   "cell_type": "markdown",
   "id": "champion-bennett",
   "metadata": {},
   "source": [
    "# ---------------------------------------- #\n",
    "### Question:\n",
    "Définissez une fonction qui peut convertir un entier en chaîne et l'imprimer dans la console.\n",
    "\n",
    "### Astuces:\n",
    "\n",
    "Utilisez str () pour convertir un nombre en chaîne."
   ]
  },
  {
   "cell_type": "code",
   "execution_count": null,
   "id": "personalized-internship",
   "metadata": {},
   "outputs": [],
   "source": []
  },
  {
   "cell_type": "markdown",
   "id": "occupational-overview",
   "metadata": {},
   "source": [
    "# ---------------------------------------- #\n",
    "\n",
    "\n",
    " ### Question:\n",
    "Définissez une fonction qui peut recevoir deux nombres entiers sous forme de chaîne et calculer leur somme puis l'imprimer dans la console.\n",
    "\n",
    " ### Astuces:\n",
    "\n",
    "Utilisez int () pour convertir une chaîne en entier."
   ]
  },
  {
   "cell_type": "code",
   "execution_count": null,
   "id": "decreased-vienna",
   "metadata": {},
   "outputs": [],
   "source": []
  },
  {
   "cell_type": "markdown",
   "id": "prescribed-greece",
   "metadata": {},
   "source": [
    "# ---------------------------------------- #\n",
    "2.10\n",
    "\n",
    "\n",
    "### Question:\n",
    "Définissez une fonction qui peut accepter deux chaînes en entrée et les concaténer, puis l'imprimer dans la console.\n",
    "\n",
    "### Astuces:\n",
    "\n",
    "Utilisez + pour concaténer les chaînes"
   ]
  },
  {
   "cell_type": "code",
   "execution_count": null,
   "id": "veterinary-cleanup",
   "metadata": {},
   "outputs": [],
   "source": []
  },
  {
   "cell_type": "markdown",
   "id": "interior-civilian",
   "metadata": {},
   "source": [
    "2.10\n",
    "\n",
    "\n",
    "### Question:\n",
    "\n",
    "Définissez une fonction qui peut accepter deux chaînes en entrée et imprimer la chaîne de longueur maximale dans la console. Si deux chaînes ont la même longueur, alors la fonction doit afficher toutes les chaînes ligne par ligne.\n",
    "\n",
    "### Astuces:\n",
    "\n",
    "Utilisez la fonction len () pour obtenir la longueur d'une chaîne"
   ]
  },
  {
   "cell_type": "code",
   "execution_count": null,
   "id": "secondary-relaxation",
   "metadata": {},
   "outputs": [],
   "source": []
  },
  {
   "cell_type": "markdown",
   "id": "incident-parts",
   "metadata": {},
   "source": [
    "# ---------------------------------------- #\n",
    "\n",
    "\n",
    "### Question:\n",
    "Définissez une fonction qui peut accepter un nombre entier comme entrée et affichez «C'est un nombre pair» si le nombre est pair, sinon imprimez «C'est un nombre impair».\n",
    "\n",
    "###Astuces:\n",
    "\n",
    "Utilisez l'opérateur% pour vérifier si un nombre est pair ou impair."
   ]
  },
  {
   "cell_type": "code",
   "execution_count": null,
   "id": "collaborative-testimony",
   "metadata": {},
   "outputs": [],
   "source": []
  },
  {
   "cell_type": "markdown",
   "id": "monthly-mountain",
   "metadata": {},
   "source": [
    "\n",
    "\n",
    "### Question:\n",
    "Définissez une fonction qui peut imprimer un dictionnaire où les clés sont des nombres entre 1 et 3 (tous deux inclus) et les valeurs sont des carrés de clés.\n",
    "\n",
    "### Astuces:\n",
    "\n",
    "Utilisez le modèle dict [clé] = valeur pour mettre une entrée dans un dictionnaire.\n",
    "Utilisez l'opérateur ** pour obtenir la puissance d'un nombre."
   ]
  },
  {
   "cell_type": "code",
   "execution_count": null,
   "id": "arctic-entrepreneur",
   "metadata": {},
   "outputs": [],
   "source": []
  },
  {
   "cell_type": "markdown",
   "id": "explicit-hammer",
   "metadata": {},
   "source": [
    "# ---------------------------------------- #\n",
    "\n",
    "\n",
    "### Question:\n",
    "Définissez une fonction qui peut imprimer un dictionnaire où les clés sont des nombres entre 1 et 20 (tous deux inclus) et les valeurs sont des carrés de clés.\n",
    "\n",
    "### Astuces:\n",
    "\n",
    "Utilisez le modèle dict [clé] = valeur pour mettre une entrée dans un dictionnaire.\n",
    "Utilisez l'opérateur ** pour obtenir la puissance d'un nombre.\n",
    "Utilisez range () pour les boucles."
   ]
  },
  {
   "cell_type": "code",
   "execution_count": null,
   "id": "stable-union",
   "metadata": {},
   "outputs": [],
   "source": []
  },
  {
   "cell_type": "markdown",
   "id": "formed-demand",
   "metadata": {},
   "source": [
    "# ---------------------------------------- #\n",
    "\n",
    "\n",
    "### Question:\n",
    "Définissez une fonction qui peut générer un dictionnaire où les clés sont des nombres entre 1 et 20 (tous deux inclus) et les valeurs sont des carrés de clés. La fonction ne doit imprimer que les valeurs.\n",
    "\n",
    "### Astuces:\n",
    "\n",
    "Utilisez le modèle dict [clé] = valeur pour mettre une entrée dans un dictionnaire.\n",
    "Utilisez l'opérateur ** pour obtenir la puissance d'un nombre.\n",
    "Utilisez range () pour les boucles.\n",
    "Utilisez les touches () pour parcourir les clés du dictionnaire. Nous pouvons également utiliser item () pour obtenir des paires clé / valeur."
   ]
  },
  {
   "cell_type": "code",
   "execution_count": null,
   "id": "obvious-stopping",
   "metadata": {},
   "outputs": [],
   "source": []
  },
  {
   "cell_type": "markdown",
   "id": "dying-thesis",
   "metadata": {},
   "source": [
    "# ---------------------------------------- #\n",
    "\n",
    "\n",
    "### Question:\n",
    "Définissez une fonction qui peut générer un dictionnaire où les clés sont des nombres entre 1 et 20 (tous deux inclus) et les valeurs sont des carrés de clés. La fonction ne doit imprimer que les touches.\n",
    "\n",
    "### Astuces:\n",
    "\n",
    "Utilisez le modèle dict [clé] = valeur pour mettre une entrée dans un dictionnaire.\n",
    "Utilisez l'opérateur ** pour obtenir la puissance d'un nombre.\n",
    "Utilisez range () pour les boucles.\n",
    "Utilisez les touches () pour parcourir les clés du dictionnaire. Nous pouvons également utiliser item () pour obtenir des paires clé / valeur."
   ]
  },
  {
   "cell_type": "code",
   "execution_count": null,
   "id": "parental-basket",
   "metadata": {},
   "outputs": [],
   "source": []
  },
  {
   "cell_type": "markdown",
   "id": "wrong-choice",
   "metadata": {},
   "source": [
    "# ---------------------------------------- #\n",
    "\n",
    "\n",
    "### Question:\n",
    "Définissez une fonction qui peut générer et imprimer une liste où les valeurs sont des carrés de nombres compris entre 1 et 20 (tous deux inclus).\n",
    "\n",
    "### Astuces:\n",
    "\n",
    "Utilisez l'opérateur ** pour obtenir la puissance d'un nombre.\n",
    "Utilisez range () pour les boucles.\n",
    "Utilisez list.append () pour ajouter des valeurs dans une liste."
   ]
  },
  {
   "cell_type": "code",
   "execution_count": null,
   "id": "static-reference",
   "metadata": {},
   "outputs": [],
   "source": []
  },
  {
   "cell_type": "markdown",
   "id": "graphic-looking",
   "metadata": {},
   "source": [
    "\n",
    "### Question:\n",
    "Définissez une fonction qui peut générer une liste où les valeurs sont des carrés de nombres compris entre 1 et 20 (tous deux inclus). Ensuite, la fonction doit imprimer les 5 premiers éléments de la liste.\n",
    "\n",
    "### Astuces:\n",
    "\n",
    "Utilisez l'opérateur ** pour obtenir la puissance d'un nombre.\n",
    "Utilisez range () pour les boucles.\n",
    "Utilisez list.append () pour ajouter des valeurs dans une liste.\n",
    "Utilisez [n1: n2] pour découper une liste"
   ]
  },
  {
   "cell_type": "code",
   "execution_count": null,
   "id": "concerned-genesis",
   "metadata": {},
   "outputs": [],
   "source": []
  },
  {
   "cell_type": "markdown",
   "id": "agreed-comfort",
   "metadata": {},
   "source": [
    "# ---------------------------------------- #\n",
    "\n",
    "### Question:\n",
    "Définissez une fonction qui peut générer une liste où les valeurs sont des carrés de nombres compris entre 1 et 20 (tous deux inclus). Ensuite, la fonction doit imprimer les 5 derniers éléments de la liste.\n",
    "\n",
    "### Astuces:\n",
    "\n",
    "Utilisez l'opérateur ** pour obtenir la puissance d'un nombre.\n",
    "Utilisez range () pour les boucles.\n",
    "Utilisez list.append () pour ajouter des valeurs dans une liste.\n",
    "Utilisez [n1: n2] pour découper une liste"
   ]
  },
  {
   "cell_type": "code",
   "execution_count": null,
   "id": "developmental-arnold",
   "metadata": {},
   "outputs": [],
   "source": []
  },
  {
   "cell_type": "markdown",
   "id": "boxed-singer",
   "metadata": {},
   "source": [
    "# ---------------------------------------- #\n",
    "\n",
    "### Question:\n",
    "Définissez une fonction qui peut générer une liste où les valeurs sont des carrés de nombres compris entre 1 et 20 (tous deux inclus). Ensuite, la fonction doit imprimer toutes les valeurs à l'exception des 5 premiers éléments de la liste.\n",
    "\n",
    "### Astuces:\n",
    "\n",
    "Utilisez l'opérateur ** pour obtenir la puissance d'un nombre.\n",
    "Utilisez range () pour les boucles.\n",
    "Utilisez list.append () pour ajouter des valeurs dans une liste.\n",
    "Utilisez [n1: n2] pour découper une liste"
   ]
  },
  {
   "cell_type": "code",
   "execution_count": null,
   "id": "current-latino",
   "metadata": {},
   "outputs": [],
   "source": []
  },
  {
   "cell_type": "markdown",
   "id": "needed-equipment",
   "metadata": {},
   "source": [
    "# ---------------------------------------- #\n",
    "\n",
    "\n",
    " ### Question:\n",
    "Définissez une fonction qui peut générer et imprimer un tuple où la valeur est un carré de nombres compris entre 1 et 20 (tous deux inclus).\n",
    "\n",
    "### Astuces:\n",
    "\n",
    "Utilisez l'opérateur ** pour obtenir la puissance d'un nombre.\n",
    "Utilisez range () pour les boucles.\n",
    "Utilisez list.append () pour ajouter des valeurs dans une liste.\n",
    "Utilisez tuple () pour obtenir un tuple dans une liste."
   ]
  },
  {
   "cell_type": "code",
   "execution_count": null,
   "id": "useful-shift",
   "metadata": {},
   "outputs": [],
   "source": []
  },
  {
   "cell_type": "markdown",
   "id": "minute-frontier",
   "metadata": {},
   "source": [
    "### Question:\n",
    "Avec un tuple donné (1, 2, 3, 4, 5, 6, 7, 8, 9, 10), écrivez un programme pour imprimer la première moitié des valeurs sur une ligne et la dernière moitié des valeurs sur une ligne.\n",
    "\n",
    "### Astuces:\n",
    "\n",
    "Utilisez la notation [n1: n2] pour obtenir une tranche d'un tuple."
   ]
  },
  {
   "cell_type": "code",
   "execution_count": null,
   "id": "subtle-education",
   "metadata": {},
   "outputs": [],
   "source": []
  },
  {
   "cell_type": "markdown",
   "id": "younger-history",
   "metadata": {},
   "source": [
    "# ---------------------------------------- #\n",
    "\n",
    "\n",
    "### Question:\n",
    "Écrivez un programme pour générer et imprimer un autre tuple dont les valeurs sont des nombres pairs dans le tuple donné (1,2,3,4,5,6,7,8,9,10).\n",
    "\n",
    "### Astuces:\n",
    "\n",
    "Utilisez \"for\" pour itérer le tuple\n",
    "Utilisez tuple () pour générer un tuple à partir d'une liste."
   ]
  },
  {
   "cell_type": "code",
   "execution_count": null,
   "id": "infrared-twenty",
   "metadata": {},
   "outputs": [],
   "source": []
  },
  {
   "cell_type": "markdown",
   "id": "endless-certificate",
   "metadata": {},
   "source": [
    "### Question:\n",
    "Ecrivez un programme qui accepte une chaîne comme entrée pour imprimer \"Oui\" si la chaîne est \"oui\" ou \"OUI\" ou \"Oui\", sinon imprimer \"Non\".\n",
    "\n",
    " ### Astuces:\n",
    "\n",
    "Utilisez la déclaration if pour juger de l'état."
   ]
  },
  {
   "cell_type": "code",
   "execution_count": null,
   "id": "theoretical-billion",
   "metadata": {},
   "outputs": [],
   "source": []
  },
  {
   "cell_type": "markdown",
   "id": "enclosed-launch",
   "metadata": {},
   "source": [
    "# ---------------------------------------- #\n",
    "\n",
    "### Question:\n",
    "Écrivez un programme qui peut filtrer les nombres pairs dans une liste en utilisant la fonction de filtrage. La liste est la suivante: [1,2,3,4,5,6,7,8,9,10].\n",
    "\n",
    "### Astuces:\n",
    "\n",
    "Utilisez filter () pour filtrer certains éléments d'une liste.\n",
    "Utilisez lambda pour définir des fonctions anonymes."
   ]
  },
  {
   "cell_type": "code",
   "execution_count": null,
   "id": "advised-designation",
   "metadata": {},
   "outputs": [],
   "source": []
  },
  {
   "cell_type": "markdown",
   "id": "unknown-latter",
   "metadata": {},
   "source": [
    "# ---------------------------------------- #\n",
    "\n",
    "\n",
    " ### Question:\n",
    "Ecrivez un programme qui peut mapper () pour faire une liste dont les éléments sont carrés d'éléments dans [1,2,3,4,5,6,7,8,9,10].\n",
    "\n",
    " ### Astuces:\n",
    "\n",
    "Utilisez map () pour générer une liste.\n",
    "Utilisez lambda pour définir des fonctions anonymes."
   ]
  },
  {
   "cell_type": "code",
   "execution_count": null,
   "id": "critical-williams",
   "metadata": {},
   "outputs": [],
   "source": []
  },
  {
   "cell_type": "markdown",
   "id": "twelve-walter",
   "metadata": {},
   "source": [
    "# ---------------------------------------- #\n",
    "\n",
    "\n",
    "### Question:\n",
    "Ecrivez un programme qui peut mapper () et filtrer () pour faire une liste dont les éléments sont carrés de nombre pair dans [1,2,3,4,5,6,7,8,9,10].\n",
    "\n",
    "### Astuces:\n",
    "\n",
    "Utilisez map () pour générer une liste.\n",
    "Utilisez filter () pour filtrer les éléments d'une liste.\n",
    "Utilisez lambda pour définir des fonctions anonymes."
   ]
  },
  {
   "cell_type": "code",
   "execution_count": null,
   "id": "occupied-missile",
   "metadata": {},
   "outputs": [],
   "source": []
  },
  {
   "cell_type": "markdown",
   "id": "pressing-blank",
   "metadata": {},
   "source": [
    "### Question:\n",
    "Ecrivez un programme qui peut filter () pour faire une liste dont les éléments sont des nombres pairs entre 1 et 20 (tous deux inclus).\n",
    "\n",
    "### Astuces:\n",
    "\n",
    "Utilisez filter () pour filtrer les éléments d'une liste.\n",
    "Utilisez lambda pour définir des fonctions anonymes."
   ]
  },
  {
   "cell_type": "code",
   "execution_count": null,
   "id": "pharmaceutical-proposition",
   "metadata": {},
   "outputs": [],
   "source": []
  },
  {
   "cell_type": "markdown",
   "id": "following-granny",
   "metadata": {},
   "source": [
    "### Question:\n",
    "Écrivez un programme qui peut mapper () pour faire une liste dont les éléments sont des carrés de nombres entre 1 et 20 (tous deux inclus).\n",
    "\n",
    "### Astuces:\n",
    "\n",
    "Utilisez map () pour générer une liste.\n",
    "Utilisez lambda pour définir des fonctions anonymes."
   ]
  },
  {
   "cell_type": "code",
   "execution_count": null,
   "id": "sufficient-adoption",
   "metadata": {},
   "outputs": [],
   "source": []
  },
  {
   "cell_type": "markdown",
   "id": "wooden-restriction",
   "metadata": {},
   "source": [
    "# ---------------------------------------- #\n",
    "7,2\n",
    "\n",
    "### Question:\n",
    "Définissez une classe nommée American qui a une méthode statique appelée printNationality.\n",
    "\n",
    "### Astuces:\n",
    "\n",
    "Utilisez le décorateur @staticmethod pour définir la méthode statique de classe."
   ]
  },
  {
   "cell_type": "code",
   "execution_count": null,
   "id": "italic-aside",
   "metadata": {},
   "outputs": [],
   "source": []
  },
  {
   "cell_type": "markdown",
   "id": "informational-contribution",
   "metadata": {},
   "source": [
    "7,2\n",
    "\n",
    "### Question:\n",
    "Définissez une classe nommée American et sa sous-classe NewYorker.\n",
    "\n",
    "### Astuces:\n",
    "\n",
    "Utilisez la classe Subclass (ParentClass) pour définir une sous-classe."
   ]
  },
  {
   "cell_type": "code",
   "execution_count": null,
   "id": "accessory-coffee",
   "metadata": {},
   "outputs": [],
   "source": []
  },
  {
   "cell_type": "markdown",
   "id": "distant-section",
   "metadata": {},
   "source": [
    "# ---------------------------------------- #\n",
    "\n",
    "\n",
    "7,2\n",
    "\n",
    "### Question:\n",
    "Définissez une classe nommée Circle qui peut être construite par un rayon. La classe Circle a une méthode qui peut calculer l'aire.\n",
    "\n",
    "### Astuces:\n",
    "\n",
    "Utilisez def methodName (self) pour définir une méthode."
   ]
  },
  {
   "cell_type": "code",
   "execution_count": null,
   "id": "second-flexibility",
   "metadata": {},
   "outputs": [],
   "source": []
  },
  {
   "cell_type": "markdown",
   "id": "apart-registrar",
   "metadata": {},
   "source": [
    "# ---------------------------------------- #\n",
    "\n",
    "### Question\n",
    "\n",
    "Définissez une classe nommée Rectangle qui peut être construite par une longueur et une largeur. La classe Rectangle a une méthode qui peut calculer la zone.\n",
    "\n",
    "### Astuces:\n",
    "\n",
    "Utilisez def methodName (self) pour définir une méthode."
   ]
  },
  {
   "cell_type": "code",
   "execution_count": null,
   "id": "logical-niagara",
   "metadata": {},
   "outputs": [],
   "source": []
  },
  {
   "cell_type": "markdown",
   "id": "structural-channel",
   "metadata": {},
   "source": [
    "\n",
    "\n",
    "Définissez une classe nommée Shape et sa sous-classe Square. La classe Square a une fonction init qui prend une longueur comme argument. Les deux classes ont une fonction de zone qui peut imprimer la zone de la forme où la zone de Shape est 0 par défaut.\n",
    "\n",
    " ### Astuces:\n",
    "\n",
    "Pour remplacer une méthode dans la super classe, nous pouvons définir une méthode avec le même nom dans la super classe."
   ]
  },
  {
   "cell_type": "code",
   "execution_count": null,
   "id": "affiliated-european",
   "metadata": {},
   "outputs": [],
   "source": []
  },
  {
   "cell_type": "markdown",
   "id": "incorporate-category",
   "metadata": {},
   "source": [
    "Veuillez lever une exception RuntimeError.\n",
    "\n",
    "### Astuces:\n",
    "\n",
    "Utilisez rise () pour lever une exception."
   ]
  },
  {
   "cell_type": "code",
   "execution_count": null,
   "id": "allied-stewart",
   "metadata": {},
   "outputs": [],
   "source": []
  },
  {
   "cell_type": "markdown",
   "id": "advance-conservative",
   "metadata": {},
   "source": [
    "# ---------------------------------------- #\n",
    "Écrivez une fonction pour calculer 5/0 et utilisez try / except pour intercepter les exceptions.\n",
    "\n",
    "### Astuces:\n",
    "\n",
    "Utilisez try / except pour intercepter les exceptions."
   ]
  },
  {
   "cell_type": "code",
   "execution_count": null,
   "id": "aggregate-enough",
   "metadata": {},
   "outputs": [],
   "source": []
  },
  {
   "cell_type": "markdown",
   "id": "daily-tutorial",
   "metadata": {},
   "source": [
    "# ---------------------------------------- #\n",
    "Définissez une classe d'exception personnalisée qui prend un message de chaîne comme attribut.\n",
    "\n",
    "### Astuces:\n",
    "\n",
    "Pour définir une exception personnalisée, nous devons définir une classe héritée d'Exception."
   ]
  },
  {
   "cell_type": "code",
   "execution_count": null,
   "id": "known-organic",
   "metadata": {},
   "outputs": [],
   "source": []
  },
  {
   "cell_type": "markdown",
   "id": "applied-medicare",
   "metadata": {},
   "source": [
    "# ---------------------------------------- #\n",
    "### Question:\n",
    "\n",
    "En supposant que nous ayons des adresses e-mail au format \"nom_utilisateur@nomentreprise.com\", veuillez écrire un programme pour imprimer le nom d'utilisateur d'une adresse e-mail donnée. Les noms d'utilisateur et les noms de société sont composés de lettres uniquement.\n",
    "\n",
    "### Exemple:\n",
    "Si l'adresse e-mail suivante est fournie en entrée du programme:\n",
    "\n",
    "john@google.com\n",
    "\n",
    "Ensuite, la sortie du programme doit être:\n",
    "\n",
    "John\n",
    "\n",
    "Dans le cas où des données d'entrée sont fournies à la question, il doit être considéré comme une entrée de console.\n",
    "\n",
    "### Astuces:\n",
    "\n",
    "Utilisez \\ w pour faire correspondre les lettres."
   ]
  },
  {
   "cell_type": "code",
   "execution_count": null,
   "id": "sorted-documentary",
   "metadata": {},
   "outputs": [],
   "source": []
  },
  {
   "cell_type": "markdown",
   "id": "widespread-listening",
   "metadata": {},
   "source": [
    "# ---------------------------------------- #\n",
    "### Question:\n",
    "\n",
    "Écrivez un programme qui accepte une séquence de mots séparés par des espaces comme entrée pour imprimer les mots composés de chiffres uniquement.\n",
    "\n",
    "### Exemple:\n",
    "Si les mots suivants sont donnés en entrée du programme:\n",
    "\n",
    "2 chats et 3 chiens.\n",
    "\n",
    "Ensuite, la sortie du programme doit être:\n",
    "\n",
    "['2', '3']\n",
    "\n",
    "Dans le cas où des données d'entrée sont fournies à la question, il doit être considéré comme une entrée de console.\n",
    "\n",
    "### Astuces:\n",
    "\n",
    "Utilisez re.findall () pour trouver toutes les sous-chaînes en utilisant regex."
   ]
  },
  {
   "cell_type": "code",
   "execution_count": null,
   "id": "biological-necklace",
   "metadata": {},
   "outputs": [],
   "source": []
  },
  {
   "cell_type": "markdown",
   "id": "imported-pottery",
   "metadata": {},
   "source": [
    "# ---------------------------------------- #\n",
    "### Question:\n",
    "\n",
    "\n",
    "Imprimez une chaîne Unicode \"hello world\".\n",
    "\n",
    "### Astuces:\n",
    "\n",
    "Utilisez le format u'strings 'pour définir une chaîne unicode."
   ]
  },
  {
   "cell_type": "code",
   "execution_count": null,
   "id": "thick-storm",
   "metadata": {},
   "outputs": [],
   "source": []
  },
  {
   "cell_type": "markdown",
   "id": "authentic-mixture",
   "metadata": {},
   "source": [
    "# ---------------------------------------- #\n",
    "###Question:\n",
    "\n",
    "Écrivez un commentaire spécial pour indiquer qu'un fichier de code source Python est en Unicode.\n",
    "\n"
   ]
  },
  {
   "cell_type": "code",
   "execution_count": null,
   "id": "swiss-salon",
   "metadata": {},
   "outputs": [],
   "source": []
  },
  {
   "cell_type": "markdown",
   "id": "documentary-recognition",
   "metadata": {},
   "source": [
    "# ---------------------------------------- #\n",
    "### Question:\n",
    "\n",
    "Ecrire un programme pour calculer 1/2 + 2/3 + 3/4 + ... + n / n + 1 avec une entrée n donnée par la console (n> 0).\n",
    "\n",
    "### Exemple:\n",
    "Si le n suivant est donné comme entrée du programme:\n",
    "\n",
    "5\n",
    "\n",
    "Ensuite, la sortie du programme doit être:\n",
    "\n",
    "3,55\n",
    "\n",
    "Dans le cas où des données d'entrée sont fournies à la question, il doit être considéré comme une entrée de console.\n",
    "\n",
    "### Astuces:\n",
    "Utilisez float () pour convertir un entier en float"
   ]
  },
  {
   "cell_type": "code",
   "execution_count": null,
   "id": "every-documentary",
   "metadata": {},
   "outputs": [],
   "source": []
  },
  {
   "cell_type": "markdown",
   "id": "assured-unemployment",
   "metadata": {},
   "source": [
    "# ---------------------------------------- #\n",
    "### Question:\n",
    "\n",
    "Ecrivez un programme pour calculer:\n",
    "\n",
    "f (n) = f (n-1) +100 lorsque n> 0\n",
    "et f (0) = 1\n",
    "\n",
    "avec une entrée n donnée par la console (n> 0).\n",
    "\n",
    "### Exemple:\n",
    "Si le n suivant est donné comme entrée du programme:\n",
    "\n",
    "5\n",
    "\n",
    "Ensuite, la sortie du programme doit être:\n",
    "\n",
    "500\n",
    "\n",
    "Dans le cas où des données d'entrée sont fournies à la question, il doit être considéré comme une entrée de console.\n",
    "\n",
    "### Astuces:\n",
    "Nous pouvons définir une fonction récursive en Python."
   ]
  },
  {
   "cell_type": "code",
   "execution_count": null,
   "id": "native-experiment",
   "metadata": {},
   "outputs": [],
   "source": []
  },
  {
   "cell_type": "markdown",
   "id": "changing-spiritual",
   "metadata": {},
   "source": [
    "# ---------------------------------------- #\n",
    "\n",
    "### Question:\n",
    "\n",
    "\n",
    "La séquence de Fibonacci est calculée sur la base de la formule suivante:\n",
    "\n",
    "\n",
    "f (n) = 0 si n = 0\n",
    "f (n) = 1 si n = 1\n",
    "f (n) = f (n-1) + f (n-2) si n> 1\n",
    "\n",
    "Veuillez écrire un programme pour calculer la valeur de f (n) avec une entrée n donnée par la console.\n",
    "\n",
    "### Exemple:\n",
    "Si le n suivant est donné comme entrée du programme:\n",
    "\n",
    "sept\n",
    "\n",
    "Ensuite, la sortie du programme doit être:\n",
    "\n",
    "13\n",
    "\n",
    "Dans le cas où des données d'entrée sont fournies à la question, il doit être considéré comme une entrée de console.\n",
    "\n",
    "### Astuces:\n",
    "Nous pouvons définir une fonction récursive en Python."
   ]
  },
  {
   "cell_type": "code",
   "execution_count": null,
   "id": "steady-height",
   "metadata": {},
   "outputs": [],
   "source": []
  },
  {
   "cell_type": "markdown",
   "id": "looking-modification",
   "metadata": {},
   "source": [
    "### question:\n",
    "\n",
    "La séquence de Fibonacci est calculée sur la base de la formule suivante:\n",
    "\n",
    "\n",
    "f (n) = 0 si n = 0\n",
    "f (n) = 1 si n = 1\n",
    "f (n) = f (n-1) + f (n-2) si n> 1\n",
    "\n",
    "Veuillez écrire un programme utilisant la compréhension de liste pour imprimer la séquence de Fibonacci sous forme séparée par des virgules avec une entrée n donnée par la console.\n",
    "\n",
    "### Exemple:\n",
    "Si le n suivant est donné comme entrée du programme:\n",
    "\n",
    "sept\n",
    "\n",
    "Ensuite, la sortie du programme doit être:\n",
    "\n",
    "0,1,1,2,3,5,8,13\n",
    "\n",
    "\n",
    "### Astuces:\n",
    "Nous pouvons définir une fonction récursive en Python.\n",
    "Utilisez la compréhension de liste pour générer une liste à partir d'une liste existante.\n",
    "Utilisez string.join () pour rejoindre une liste de chaînes.\n",
    "\n",
    "Dans le cas où des données d'entrée sont fournies à la question, il doit être considéré comme une entrée de console."
   ]
  },
  {
   "cell_type": "code",
   "execution_count": null,
   "id": "declared-republic",
   "metadata": {},
   "outputs": [],
   "source": []
  },
  {
   "cell_type": "markdown",
   "id": "grave-touch",
   "metadata": {},
   "source": [
    "# ---------------------------------------- #\n",
    "\n",
    "### Question:\n",
    "\n",
    "Veuillez écrire un programme en utilisant un générateur pour imprimer les nombres pairs entre 0 et n sous forme séparée par des virgules tandis que n est entré par la console.\n",
    "\n",
    "### Exemple:\n",
    "Si le n suivant est donné comme entrée du programme:\n",
    "\n",
    "dix\n",
    "\n",
    "Ensuite, la sortie du programme doit être:\n",
    "\n",
    "0,2,4,6,8,10\n",
    "\n",
    "### Astuces:\n",
    "Utilisez le rendement pour produire la valeur suivante dans le générateur.\n",
    "\n",
    "Dans le cas où des données d'entrée sont fournies à la question, il doit être considéré comme une entrée de console."
   ]
  },
  {
   "cell_type": "code",
   "execution_count": null,
   "id": "extensive-mortality",
   "metadata": {},
   "outputs": [],
   "source": []
  },
  {
   "cell_type": "markdown",
   "id": "beneficial-progressive",
   "metadata": {},
   "source": [
    "# ---------------------------------------- #\n",
    "\n",
    "### Question:\n",
    "\n",
    "Veuillez écrire un programme utilisant un générateur pour imprimer les nombres qui peuvent être divisibles par 5 et 7 entre 0 et n sous forme séparée par des virgules tandis que n est entré par la console.\n",
    "\n",
    "### Exemple:\n",
    "Si le n suivant est donné comme entrée du programme:\n",
    "\n",
    "100\n",
    "\n",
    "Ensuite, la sortie du programme doit être:\n",
    "\n",
    "0,35,70\n",
    "\n",
    "### Astuces:\n",
    "Utilisez le rendement pour produire la valeur suivante dans le générateur.\n",
    "\n",
    "Dans le cas où des données d'entrée sont fournies à la question, il doit être considéré comme une entrée de console."
   ]
  },
  {
   "cell_type": "code",
   "execution_count": null,
   "id": "rental-bailey",
   "metadata": {},
   "outputs": [],
   "source": []
  },
  {
   "cell_type": "markdown",
   "id": "systematic-sword",
   "metadata": {},
   "source": [
    "# ---------------------------------------- #\n",
    "\n",
    "### Question:\n",
    "\n",
    "\n",
    "Veuillez écrire des instructions assert pour vérifier que chaque nombre de la liste [2,4,6,8] est pair.\n",
    "\n",
    "\n",
    "\n",
    "### Astuces:\n",
    "Utilisez \"assert expression\" pour faire une assertion."
   ]
  },
  {
   "cell_type": "code",
   "execution_count": null,
   "id": "suffering-tulsa",
   "metadata": {},
   "outputs": [],
   "source": []
  },
  {
   "cell_type": "markdown",
   "id": "difficult-customs",
   "metadata": {},
   "source": [
    "# ---------------------------------------- #\n",
    "### Question:\n",
    "\n",
    "Veuillez écrire un programme qui accepte l'expression mathématique de base de la console et imprimer le résultat de l'évaluation.\n",
    "\n",
    "Exemple:\n",
    "Si la chaîne suivante est donnée en entrée du programme:\n",
    "\n",
    "35 + 3\n",
    "\n",
    "Ensuite, la sortie du programme doit être:\n",
    "\n",
    "38\n",
    "\n",
    "### Astuces:\n",
    "Utilisez eval () pour évaluer une expression."
   ]
  },
  {
   "cell_type": "code",
   "execution_count": null,
   "id": "historical-evolution",
   "metadata": {},
   "outputs": [],
   "source": []
  },
  {
   "cell_type": "markdown",
   "id": "extraordinary-authority",
   "metadata": {},
   "source": [
    "# ---------------------------------------- #\n",
    "### Question:\n",
    "\n",
    "Veuillez écrire une fonction de recherche binaire qui recherche un élément dans une liste triée. La fonction doit renvoyer l'index de l'élément à rechercher dans la liste.\n",
    "\n",
    "\n",
    "### Astuces:\n",
    "Utilisez if / elif pour gérer les conditions."
   ]
  },
  {
   "cell_type": "code",
   "execution_count": null,
   "id": "laden-string",
   "metadata": {},
   "outputs": [],
   "source": []
  },
  {
   "cell_type": "markdown",
   "id": "motivated-suicide",
   "metadata": {},
   "source": [
    "# ---------------------------------------- #\n",
    "### Question:\n",
    "\n",
    "Veuillez écrire une fonction de recherche binaire qui recherche un élément dans une liste triée. La fonction doit renvoyer l'index de l'élément à rechercher dans la liste.\n",
    "\n",
    "\n",
    "### Astuces:\n",
    "Utilisez if / elif pour gérer les conditions."
   ]
  },
  {
   "cell_type": "code",
   "execution_count": null,
   "id": "attached-globe",
   "metadata": {},
   "outputs": [],
   "source": []
  },
  {
   "cell_type": "markdown",
   "id": "creative-spirituality",
   "metadata": {},
   "source": [
    "# ---------------------------------------- #\n",
    "### Question:\n",
    "\n",
    "Veuillez générer un flottant aléatoire dont la valeur est comprise entre 10 et 100 à l'aide du module mathématique Python.\n",
    "\n",
    "\n",
    "\n",
    "### Astuces:\n",
    "Utilisez random.random () pour générer un flottant aléatoire dans [0,1]."
   ]
  },
  {
   "cell_type": "code",
   "execution_count": null,
   "id": "southern-rental",
   "metadata": {},
   "outputs": [],
   "source": []
  },
  {
   "cell_type": "markdown",
   "id": "valued-flashing",
   "metadata": {},
   "source": [
    "# ---------------------------------------- #\n",
    "### Question:\n",
    "\n",
    "Veuillez générer un flottant aléatoire dont la valeur est comprise entre 5 et 95 à l'aide du module mathématique Python.\n",
    "\n",
    "\n",
    "\n",
    "### Astuces:\n",
    "Utilisez random.random () pour générer un flottant aléatoire dans [0,1]."
   ]
  },
  {
   "cell_type": "code",
   "execution_count": null,
   "id": "needed-encoding",
   "metadata": {},
   "outputs": [],
   "source": []
  },
  {
   "cell_type": "markdown",
   "id": "difficult-devon",
   "metadata": {},
   "source": [
    "# ---------------------------------------- #\n",
    "### Question:\n",
    "\n",
    "Veuillez écrire un programme pour produire un nombre pair aléatoire entre 0 et 10 inclus en utilisant un module aléatoire et une compréhension de liste.\n",
    "\n",
    "\n",
    "\n",
    "### Astuces:\n",
    "Utilisez random.choice () sur un élément aléatoire d'une liste."
   ]
  },
  {
   "cell_type": "code",
   "execution_count": null,
   "id": "outer-ballot",
   "metadata": {},
   "outputs": [],
   "source": []
  },
  {
   "cell_type": "markdown",
   "id": "pediatric-flexibility",
   "metadata": {},
   "source": [
    "# ---------------------------------------- #\n",
    "### Question:\n",
    "\n",
    "Veuillez écrire un programme pour produire un nombre aléatoire, qui est divisible par 5 et 7, entre 0 et 10 inclus en utilisant le module aléatoire et la compréhension de liste.\n",
    "\n",
    "\n",
    "\n",
    "### Astuces:\n",
    "Utilisez random.choice () sur un élément aléatoire d'une liste."
   ]
  },
  {
   "cell_type": "code",
   "execution_count": null,
   "id": "mounted-assessment",
   "metadata": {},
   "outputs": [],
   "source": []
  },
  {
   "cell_type": "markdown",
   "id": "interpreted-storm",
   "metadata": {},
   "source": [
    "# ---------------------------------------- #\n",
    "\n",
    "### Question:\n",
    "\n",
    "Veuillez écrire un programme pour générer une liste de 5 nombres aléatoires entre 100 et 200 inclus.\n",
    "\n",
    "\n",
    "\n",
    "### Astuces:\n",
    "Utilisez random.sample () pour générer une liste de valeurs aléatoires."
   ]
  },
  {
   "cell_type": "code",
   "execution_count": null,
   "id": "noticed-indianapolis",
   "metadata": {},
   "outputs": [],
   "source": []
  },
  {
   "cell_type": "markdown",
   "id": "floating-richardson",
   "metadata": {},
   "source": [
    "# ---------------------------------------- #\n",
    "### Question:\n",
    "\n",
    "Veuillez écrire un programme pour générer au hasard une liste avec 5 nombres pairs entre 100 et 200 inclus.\n",
    "\n",
    "\n",
    "\n",
    "### Astuces:\n",
    "Utilisez random.sample () pour générer une liste de valeurs aléatoires."
   ]
  },
  {
   "cell_type": "code",
   "execution_count": null,
   "id": "visible-portugal",
   "metadata": {},
   "outputs": [],
   "source": []
  },
  {
   "cell_type": "markdown",
   "id": "connected-output",
   "metadata": {},
   "source": [
    "# ---------------------------------------- #\n",
    "### Question:\n",
    "\n",
    "Veuillez écrire un programme pour générer au hasard une liste avec 5 nombres, qui sont divisibles par 5 et 7, entre 1 et 1000 inclus.\n",
    "\n",
    "\n",
    "\n",
    "### Astuces:\n",
    "Utilisez random.sample () pour générer une liste de valeurs aléatoires."
   ]
  },
  {
   "cell_type": "code",
   "execution_count": null,
   "id": "ancient-productivity",
   "metadata": {},
   "outputs": [],
   "source": []
  },
  {
   "cell_type": "markdown",
   "id": "superior-carol",
   "metadata": {},
   "source": [
    "### Question:\n",
    "\n",
    "Veuillez écrire un programme pour imprimer au hasard un nombre entier compris entre 7 et 15 inclus.\n",
    "\n",
    "\n",
    "\n",
    "### Astuces:\n",
    "Utilisez random.randrange () pour un entier aléatoire dans une plage donnée."
   ]
  },
  {
   "cell_type": "code",
   "execution_count": null,
   "id": "confident-solid",
   "metadata": {},
   "outputs": [],
   "source": []
  },
  {
   "cell_type": "markdown",
   "id": "cutting-blink",
   "metadata": {},
   "source": [
    "### question:\n",
    "\n",
    "Veuillez écrire un programme pour compresser et décompresser la chaîne \"hello world! Hello world! Hello world! Hello world!\".\n",
    "\n",
    "\n",
    "\n",
    "### Astuces:\n",
    "Utilisez zlib.compress () et zlib.decompress () pour compresser et décompresser une chaîne."
   ]
  },
  {
   "cell_type": "code",
   "execution_count": null,
   "id": "together-syracuse",
   "metadata": {},
   "outputs": [],
   "source": []
  },
  {
   "cell_type": "markdown",
   "id": "nonprofit-darwin",
   "metadata": {},
   "source": [
    "---------------------------------------- #\n",
    "### Question:\n",
    "\n",
    "Veuillez écrire un programme pour imprimer 100 fois le temps d'exécution de l'exécution de \"1 + 1\".\n",
    "\n",
    "\n",
    "\n",
    "### Astuces:\n",
    "Utilisez la fonction timeit () pour mesurer le temps de fonctionnement."
   ]
  },
  {
   "cell_type": "code",
   "execution_count": null,
   "id": "swedish-soviet",
   "metadata": {},
   "outputs": [],
   "source": []
  },
  {
   "cell_type": "markdown",
   "id": "advance-procedure",
   "metadata": {},
   "source": [
    "### question:\n",
    "\n",
    "Veuillez écrire un programme pour mélanger et imprimer la liste [3,6,7,8].\n",
    "\n",
    "\n",
    "\n",
    "### Astuces:\n",
    "Utilisez la fonction shuffle () pour mélanger une liste."
   ]
  },
  {
   "cell_type": "code",
   "execution_count": null,
   "id": "current-campaign",
   "metadata": {},
   "outputs": [],
   "source": []
  },
  {
   "cell_type": "markdown",
   "id": "minimal-burlington",
   "metadata": {},
   "source": [
    "---------------------------------------- #\n",
    "### Question:\n",
    "\n",
    "Veuillez écrire un programme pour générer toutes les phrases où le sujet est dans [\"I\", \"You\"] et le verbe est dans [\"Play\", \"Love\"] et l'objet est dans [\"Hockey\", \"Football\"].\n",
    "\n",
    "### Astuces:\n",
    "Utilisez la notation list [index] pour obtenir un élément d'une liste."
   ]
  },
  {
   "cell_type": "code",
   "execution_count": null,
   "id": "incorporated-storm",
   "metadata": {},
   "outputs": [],
   "source": []
  },
  {
   "cell_type": "markdown",
   "id": "seeing-guest",
   "metadata": {},
   "source": [
    "# ---------------------------------------- #\n",
    "### question\n",
    "Veuillez écrire un programme pour imprimer la liste après avoir supprimé supprimer les nombres pairs dans [5,6,77,45,22,12,24].\n",
    "\n",
    "### Astuces:\n",
    "Utilisez la compréhension de liste pour supprimer un groupe d'éléments d'une liste."
   ]
  },
  {
   "cell_type": "code",
   "execution_count": null,
   "id": "experienced-scholarship",
   "metadata": {},
   "outputs": [],
   "source": []
  },
  {
   "cell_type": "markdown",
   "id": "abstract-detection",
   "metadata": {},
   "source": [
    "### Question:\n",
    "\n",
    "En utilisant la compréhension de liste, veuillez écrire un programme pour imprimer la liste après avoir supprimé les nombres de suppression qui sont divisibles par 5 et 7 dans [12,24,35,70,88,120,155].\n",
    "\n",
    "### Astuces:\n",
    "Utilisez la compréhension de liste pour supprimer un groupe d'éléments d'une liste."
   ]
  },
  {
   "cell_type": "code",
   "execution_count": null,
   "id": "handy-arrival",
   "metadata": {},
   "outputs": [],
   "source": []
  },
  {
   "cell_type": "markdown",
   "id": "relevant-scheduling",
   "metadata": {},
   "source": [
    "### question:\n",
    "\n",
    "En utilisant la compréhension de liste, veuillez écrire un programme pour imprimer la liste après avoir supprimé les 0e, 2e, 4e, 6e nombres dans [12,24,35,70,88,120,155].\n",
    "\n",
    "### Astuces:\n",
    "Utilisez la compréhension de liste pour supprimer un groupe d'éléments d'une liste.\n",
    "Utilisez enumerate () pour obtenir un tuple (index, valeur)."
   ]
  },
  {
   "cell_type": "code",
   "execution_count": null,
   "id": "placed-audio",
   "metadata": {},
   "outputs": [],
   "source": []
  },
  {
   "cell_type": "markdown",
   "id": "variable-prevention",
   "metadata": {},
   "source": [
    "### Question:\n",
    "\n",
    "En utilisant la compréhension de liste, veuillez écrire un programme pour générer un tableau 3D 3 * 5 * 8 dont chaque élément est 0.\n",
    "\n",
    "### Astuces:\n",
    "Utilisez la compréhension de liste pour créer un tableau."
   ]
  },
  {
   "cell_type": "code",
   "execution_count": null,
   "id": "novel-chaos",
   "metadata": {},
   "outputs": [],
   "source": []
  },
  {
   "cell_type": "markdown",
   "id": "corporate-hazard",
   "metadata": {},
   "source": [
    "### question:\n",
    "\n",
    "En utilisant la compréhension de liste, veuillez écrire un programme pour imprimer la liste après avoir supprimé les 0e, 4e, 5e nombres dans [12,24,35,70,88,120,155].\n",
    "\n",
    "### Astuces:\n",
    "Utilisez la compréhension de liste pour supprimer un groupe d'éléments d'une liste.\n",
    "Utilisez enumerate () pour obtenir un tuple (index, valeur)."
   ]
  },
  {
   "cell_type": "code",
   "execution_count": null,
   "id": "environmental-birth",
   "metadata": {},
   "outputs": [],
   "source": []
  },
  {
   "cell_type": "markdown",
   "id": "sharp-laser",
   "metadata": {},
   "source": [
    "# ---------------------------------------- #\n",
    "### Question:\n",
    "\n",
    "Avec deux listes données [1,3,6,78,35,55] et [12,24,35,24,88,120,155], écrivez un programme pour faire une liste dont les éléments sont l'intersection des listes données ci-dessus.\n",
    "\n",
    "### Astuces:\n",
    "Utilisez set () et \"& =\" pour effectuer l'opération de définition des intersections."
   ]
  },
  {
   "cell_type": "code",
   "execution_count": null,
   "id": "sufficient-geography",
   "metadata": {},
   "outputs": [],
   "source": []
  },
  {
   "cell_type": "markdown",
   "id": "deluxe-african",
   "metadata": {},
   "source": [
    "# ---------------------------------------- #\n",
    "### question\n",
    "Avec une liste donnée [12,24,35,24,88,120,155,88,120,155], écrivez un programme pour imprimer cette liste après avoir supprimé toutes les valeurs en double avec l'ordre d'origine réservé.\n",
    "\n",
    "### Astuces:\n",
    "Utilisez set () pour stocker un certain nombre de valeurs sans duplication."
   ]
  },
  {
   "cell_type": "code",
   "execution_count": null,
   "id": "enhanced-regard",
   "metadata": {},
   "outputs": [],
   "source": []
  },
  {
   "cell_type": "markdown",
   "id": "accompanied-speaking",
   "metadata": {},
   "source": [
    "#----------------------------------------#\n",
    "### Question:\n",
    "\n",
    "Define a class Person and its two child classes: Male and Female. All classes have a method \"getGender\" which can print \"Male\" for Male class and \"Female\" for Female class.\n",
    "\n",
    "### Hints:\n",
    "Use Subclass(Parentclass) to define a child class."
   ]
  },
  {
   "cell_type": "code",
   "execution_count": null,
   "id": "pleased-jaguar",
   "metadata": {},
   "outputs": [],
   "source": []
  },
  {
   "cell_type": "markdown",
   "id": "packed-armstrong",
   "metadata": {},
   "source": [
    "# ---------------------------------------- #\n",
    "### Question:\n",
    "\n",
    "Veuillez écrire un programme qui compte et imprime les nombres de chaque caractère dans une chaîne saisie par la console.\n",
    "\n",
    "### Exemple:\n",
    "Si la chaîne suivante est donnée en entrée du programme:\n",
    "\n",
    "abcdefgabc\n",
    "\n",
    "Ensuite, la sortie du programme doit être:\n",
    "\n",
    "a, 2\n",
    "c, 2\n",
    "b, 2\n",
    "e, 1\n",
    "d, 1\n",
    "g, 1\n",
    "f, 1\n",
    "\n",
    "### Astuces:\n",
    "Utilisez dict pour stocker les paires clé / valeur.\n",
    "Utilisez la méthode dict.get () pour rechercher une clé avec la valeur par défaut."
   ]
  },
  {
   "cell_type": "code",
   "execution_count": null,
   "id": "fixed-bride",
   "metadata": {},
   "outputs": [],
   "source": []
  },
  {
   "cell_type": "markdown",
   "id": "advised-albert",
   "metadata": {},
   "source": [
    "# ---------------------------------------- #\n",
    "\n",
    "### Question:\n",
    "\n",
    "Veuillez écrire un programme qui accepte une chaîne de la console et l'imprimer dans l'ordre inverse.\n",
    "\n",
    "### Exemple:\n",
    "Si la chaîne suivante est donnée en entrée du programme:\n",
    "\n",
    "se lever pour voter monsieur\n",
    "\n",
    "Ensuite, la sortie du programme doit être:\n",
    "\n",
    "ris etov ot esir\n",
    "\n",
    "### Astuces:\n",
    "Utilisez list [:: - 1] pour parcourir une liste dans un ordre inverse."
   ]
  },
  {
   "cell_type": "code",
   "execution_count": null,
   "id": "liquid-ultimate",
   "metadata": {},
   "outputs": [],
   "source": []
  },
  {
   "cell_type": "markdown",
   "id": "fifteen-tractor",
   "metadata": {},
   "source": [
    "# ---------------------------------------- #\n",
    "\n",
    "### Question:\n",
    "\n",
    "Veuillez écrire un programme qui accepte une chaîne de la console et imprimer les caractères qui ont même des index.\n",
    "### Exemple:\n",
    "Si la chaîne suivante est donnée en entrée du programme:\n",
    "\n",
    "H1e2l3l4o5w6o7r8l9d\n",
    "\n",
    "Ensuite, la sortie du programme doit être:\n",
    "\n",
    "Bonjour le monde\n",
    "\n",
    "### Astuces:\n",
    "Utilisez list [:: 2] pour parcourir une liste à l'étape 2."
   ]
  },
  {
   "cell_type": "code",
   "execution_count": null,
   "id": "chemical-rebel",
   "metadata": {},
   "outputs": [],
   "source": []
  },
  {
   "cell_type": "markdown",
   "id": "dressed-offer",
   "metadata": {},
   "source": [
    "# ---------------------------------------- #\n",
    "\n",
    "\n",
    "### Question:\n",
    "\n",
    "Veuillez écrire un programme qui imprime toutes les permutations de [1,2,3]\n",
    "\n",
    "\n",
    "### Astuces:\n",
    "Utilisez itertools.permutations () pour obtenir des permutations de liste."
   ]
  },
  {
   "cell_type": "code",
   "execution_count": null,
   "id": "southern-louis",
   "metadata": {},
   "outputs": [],
   "source": []
  },
  {
   "cell_type": "markdown",
   "id": "large-appendix",
   "metadata": {},
   "source": [
    "# ---------------------------------------- #\n",
    "### Question:\n",
    "\n",
    "Écrivez un programme pour résoudre un puzzle chinois ancien classique:\n",
    "Nous comptons 35 têtes et 94 pattes parmi les poulets et lapins d'une ferme. Combien de lapins et combien de poulets avons-nous?\n",
    "\n",
    "### Allusion:\n",
    "Utilisez la boucle for pour itérer toutes les solutions possibles."
   ]
  },
  {
   "cell_type": "code",
   "execution_count": null,
   "id": "running-viking",
   "metadata": {},
   "outputs": [],
   "source": []
  }
 ],
 "metadata": {
  "celltoolbar": "Format de la Cellule Texte Brut",
  "kernelspec": {
   "display_name": "Python 3",
   "language": "python",
   "name": "python3"
  },
  "language_info": {
   "codemirror_mode": {
    "name": "ipython",
    "version": 3
   },
   "file_extension": ".py",
   "mimetype": "text/x-python",
   "name": "python",
   "nbconvert_exporter": "python",
   "pygments_lexer": "ipython3",
   "version": "3.7.7"
  }
 },
 "nbformat": 4,
 "nbformat_minor": 5
}
